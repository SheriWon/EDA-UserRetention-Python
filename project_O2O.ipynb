{
 "cells": [
  {
   "cell_type": "code",
   "execution_count": 2,
   "id": "3e99c83a-3b14-4c1b-8d8d-dde4aecc0853",
   "metadata": {},
   "outputs": [],
   "source": [
    "import numpy as np\n",
    "import pandas as pd\n",
    "import matplotlib.pyplot as plt\n",
    "import seaborn as sns \n",
    "plt.rcParams['font.sans-serif'] = ['SimHei']\n",
    "plt.rcParams['axes.unicode_minus'] = False\n",
    "%matplotlib inline\n",
    "\n"
   ]
  },
  {
   "cell_type": "markdown",
   "id": "7b2c629b-cb14-4274-9fba-7b40cdea8452",
   "metadata": {},
   "source": [
    "### Loading data from CSV file\n",
    "    - We look into the details about the dataset:\n",
    "        - 1754884 rows \n",
    "        - 7 columns: User_id, Merchant_id, Coupon_id,Discount_rate, Distance, Date_received, Date \n",
    "        - Changed to datetime by using parse_dates pandas function when we load the data"
   ]
  },
  {
   "cell_type": "code",
   "execution_count": 3,
   "id": "c3215dbb-189d-478b-82be-1cb9a425998d",
   "metadata": {},
   "outputs": [
    {
     "name": "stdout",
     "output_type": "stream",
     "text": [
      "<class 'pandas.core.frame.DataFrame'>\n",
      "RangeIndex: 1754884 entries, 0 to 1754883\n",
      "Data columns (total 7 columns):\n",
      " #   Column         Dtype         \n",
      "---  ------         -----         \n",
      " 0   User_id        int64         \n",
      " 1   Merchant_id    int64         \n",
      " 2   Coupon_id      float64       \n",
      " 3   Discount_rate  object        \n",
      " 4   Distance       float64       \n",
      " 5   Date_received  datetime64[ns]\n",
      " 6   Date           datetime64[ns]\n",
      "dtypes: datetime64[ns](2), float64(2), int64(2), object(1)\n",
      "memory usage: 93.7+ MB\n"
     ]
    }
   ],
   "source": [
    "offline = pd.read_csv('ccf_offline_stage1_train.csv', parse_dates=['Date_received','Date'])\n",
    "offline.info()"
   ]
  },
  {
   "cell_type": "code",
   "execution_count": 4,
   "id": "de252a67-287a-4c67-bb55-0a611f3fe1f2",
   "metadata": {},
   "outputs": [
    {
     "data": {
      "text/html": [
       "<div>\n",
       "<style scoped>\n",
       "    .dataframe tbody tr th:only-of-type {\n",
       "        vertical-align: middle;\n",
       "    }\n",
       "\n",
       "    .dataframe tbody tr th {\n",
       "        vertical-align: top;\n",
       "    }\n",
       "\n",
       "    .dataframe thead th {\n",
       "        text-align: right;\n",
       "    }\n",
       "</style>\n",
       "<table border=\"1\" class=\"dataframe\">\n",
       "  <thead>\n",
       "    <tr style=\"text-align: right;\">\n",
       "      <th></th>\n",
       "      <th>User_id</th>\n",
       "      <th>Merchant_id</th>\n",
       "      <th>Coupon_id</th>\n",
       "      <th>Discount_rate</th>\n",
       "      <th>Distance</th>\n",
       "      <th>Date_received</th>\n",
       "      <th>Date</th>\n",
       "    </tr>\n",
       "  </thead>\n",
       "  <tbody>\n",
       "    <tr>\n",
       "      <th>0</th>\n",
       "      <td>1439408</td>\n",
       "      <td>2632</td>\n",
       "      <td>NaN</td>\n",
       "      <td>NaN</td>\n",
       "      <td>0.0</td>\n",
       "      <td>NaT</td>\n",
       "      <td>2016-02-17</td>\n",
       "    </tr>\n",
       "    <tr>\n",
       "      <th>1</th>\n",
       "      <td>1439408</td>\n",
       "      <td>4663</td>\n",
       "      <td>11002.0</td>\n",
       "      <td>150:20</td>\n",
       "      <td>1.0</td>\n",
       "      <td>2016-05-28</td>\n",
       "      <td>NaT</td>\n",
       "    </tr>\n",
       "    <tr>\n",
       "      <th>2</th>\n",
       "      <td>1439408</td>\n",
       "      <td>2632</td>\n",
       "      <td>8591.0</td>\n",
       "      <td>20:1</td>\n",
       "      <td>0.0</td>\n",
       "      <td>2016-02-17</td>\n",
       "      <td>NaT</td>\n",
       "    </tr>\n",
       "    <tr>\n",
       "      <th>3</th>\n",
       "      <td>1439408</td>\n",
       "      <td>2632</td>\n",
       "      <td>1078.0</td>\n",
       "      <td>20:1</td>\n",
       "      <td>0.0</td>\n",
       "      <td>2016-03-19</td>\n",
       "      <td>NaT</td>\n",
       "    </tr>\n",
       "    <tr>\n",
       "      <th>4</th>\n",
       "      <td>1439408</td>\n",
       "      <td>2632</td>\n",
       "      <td>8591.0</td>\n",
       "      <td>20:1</td>\n",
       "      <td>0.0</td>\n",
       "      <td>2016-06-13</td>\n",
       "      <td>NaT</td>\n",
       "    </tr>\n",
       "    <tr>\n",
       "      <th>5</th>\n",
       "      <td>1439408</td>\n",
       "      <td>2632</td>\n",
       "      <td>NaN</td>\n",
       "      <td>NaN</td>\n",
       "      <td>0.0</td>\n",
       "      <td>NaT</td>\n",
       "      <td>2016-05-16</td>\n",
       "    </tr>\n",
       "    <tr>\n",
       "      <th>6</th>\n",
       "      <td>1439408</td>\n",
       "      <td>2632</td>\n",
       "      <td>8591.0</td>\n",
       "      <td>20:1</td>\n",
       "      <td>0.0</td>\n",
       "      <td>2016-05-16</td>\n",
       "      <td>2016-06-13</td>\n",
       "    </tr>\n",
       "    <tr>\n",
       "      <th>7</th>\n",
       "      <td>1832624</td>\n",
       "      <td>3381</td>\n",
       "      <td>7610.0</td>\n",
       "      <td>200:20</td>\n",
       "      <td>0.0</td>\n",
       "      <td>2016-04-29</td>\n",
       "      <td>NaT</td>\n",
       "    </tr>\n",
       "    <tr>\n",
       "      <th>8</th>\n",
       "      <td>2029232</td>\n",
       "      <td>3381</td>\n",
       "      <td>11951.0</td>\n",
       "      <td>200:20</td>\n",
       "      <td>1.0</td>\n",
       "      <td>2016-01-29</td>\n",
       "      <td>NaT</td>\n",
       "    </tr>\n",
       "    <tr>\n",
       "      <th>9</th>\n",
       "      <td>2029232</td>\n",
       "      <td>450</td>\n",
       "      <td>1532.0</td>\n",
       "      <td>30:5</td>\n",
       "      <td>0.0</td>\n",
       "      <td>2016-05-30</td>\n",
       "      <td>NaT</td>\n",
       "    </tr>\n",
       "  </tbody>\n",
       "</table>\n",
       "</div>"
      ],
      "text/plain": [
       "   User_id  Merchant_id  Coupon_id Discount_rate  Distance Date_received  \\\n",
       "0  1439408         2632        NaN           NaN       0.0           NaT   \n",
       "1  1439408         4663    11002.0        150:20       1.0    2016-05-28   \n",
       "2  1439408         2632     8591.0          20:1       0.0    2016-02-17   \n",
       "3  1439408         2632     1078.0          20:1       0.0    2016-03-19   \n",
       "4  1439408         2632     8591.0          20:1       0.0    2016-06-13   \n",
       "5  1439408         2632        NaN           NaN       0.0           NaT   \n",
       "6  1439408         2632     8591.0          20:1       0.0    2016-05-16   \n",
       "7  1832624         3381     7610.0        200:20       0.0    2016-04-29   \n",
       "8  2029232         3381    11951.0        200:20       1.0    2016-01-29   \n",
       "9  2029232          450     1532.0          30:5       0.0    2016-05-30   \n",
       "\n",
       "        Date  \n",
       "0 2016-02-17  \n",
       "1        NaT  \n",
       "2        NaT  \n",
       "3        NaT  \n",
       "4        NaT  \n",
       "5 2016-05-16  \n",
       "6 2016-06-13  \n",
       "7        NaT  \n",
       "8        NaT  \n",
       "9        NaT  "
      ]
     },
     "execution_count": 4,
     "metadata": {},
     "output_type": "execute_result"
    }
   ],
   "source": [
    "offline.head(10)"
   ]
  },
  {
   "cell_type": "markdown",
   "id": "58a0e32d-3fa9-48c1-9488-f3f5a0748b4b",
   "metadata": {},
   "source": [
    "### 2. Cleaning data\n",
    "    - Handling null values: Coupon_id, Discount_rate, and Date_received have the same number of null values. This is because if there is no coupon issued, it implies that the context doesn't involve customers receiving and using a coupon.\n",
    "    \n",
    "    "
   ]
  },
  {
   "cell_type": "code",
   "execution_count": 5,
   "id": "0a1dd81c-bd56-4642-8c62-85ec16147a37",
   "metadata": {},
   "outputs": [
    {
     "data": {
      "text/plain": [
       "User_id               0\n",
       "Merchant_id           0\n",
       "Coupon_id        701602\n",
       "Discount_rate    701602\n",
       "Distance         106003\n",
       "Date_received    701602\n",
       "Date             977900\n",
       "dtype: int64"
      ]
     },
     "execution_count": 5,
     "metadata": {},
     "output_type": "execute_result"
    }
   ],
   "source": [
    "offline.isnull().sum()"
   ]
  },
  {
   "cell_type": "markdown",
   "id": "cba49b57-9278-4e11-aaf3-c16497b5255c",
   "metadata": {},
   "source": [
    "### 2.1 Convert the 'Discount_rate' column's data to float."
   ]
  },
  {
   "cell_type": "code",
   "execution_count": 6,
   "id": "92d453e3-8933-48f6-ac0b-2578d1cda09f",
   "metadata": {},
   "outputs": [
    {
     "data": {
      "text/html": [
       "<div>\n",
       "<style scoped>\n",
       "    .dataframe tbody tr th:only-of-type {\n",
       "        vertical-align: middle;\n",
       "    }\n",
       "\n",
       "    .dataframe tbody tr th {\n",
       "        vertical-align: top;\n",
       "    }\n",
       "\n",
       "    .dataframe thead th {\n",
       "        text-align: right;\n",
       "    }\n",
       "</style>\n",
       "<table border=\"1\" class=\"dataframe\">\n",
       "  <thead>\n",
       "    <tr style=\"text-align: right;\">\n",
       "      <th></th>\n",
       "      <th>User_id</th>\n",
       "      <th>Merchant_id</th>\n",
       "      <th>Coupon_id</th>\n",
       "      <th>Discount_rate</th>\n",
       "      <th>Distance</th>\n",
       "      <th>Date_received</th>\n",
       "      <th>Date</th>\n",
       "    </tr>\n",
       "  </thead>\n",
       "  <tbody>\n",
       "    <tr>\n",
       "      <th>0</th>\n",
       "      <td>1439408</td>\n",
       "      <td>2632</td>\n",
       "      <td>NaN</td>\n",
       "      <td>null</td>\n",
       "      <td>0.0</td>\n",
       "      <td>NaT</td>\n",
       "      <td>2016-02-17</td>\n",
       "    </tr>\n",
       "    <tr>\n",
       "      <th>1</th>\n",
       "      <td>1439408</td>\n",
       "      <td>4663</td>\n",
       "      <td>11002.0</td>\n",
       "      <td>150:20</td>\n",
       "      <td>1.0</td>\n",
       "      <td>2016-05-28</td>\n",
       "      <td>NaT</td>\n",
       "    </tr>\n",
       "    <tr>\n",
       "      <th>2</th>\n",
       "      <td>1439408</td>\n",
       "      <td>2632</td>\n",
       "      <td>8591.0</td>\n",
       "      <td>20:1</td>\n",
       "      <td>0.0</td>\n",
       "      <td>2016-02-17</td>\n",
       "      <td>NaT</td>\n",
       "    </tr>\n",
       "    <tr>\n",
       "      <th>3</th>\n",
       "      <td>1439408</td>\n",
       "      <td>2632</td>\n",
       "      <td>1078.0</td>\n",
       "      <td>20:1</td>\n",
       "      <td>0.0</td>\n",
       "      <td>2016-03-19</td>\n",
       "      <td>NaT</td>\n",
       "    </tr>\n",
       "    <tr>\n",
       "      <th>4</th>\n",
       "      <td>1439408</td>\n",
       "      <td>2632</td>\n",
       "      <td>8591.0</td>\n",
       "      <td>20:1</td>\n",
       "      <td>0.0</td>\n",
       "      <td>2016-06-13</td>\n",
       "      <td>NaT</td>\n",
       "    </tr>\n",
       "  </tbody>\n",
       "</table>\n",
       "</div>"
      ],
      "text/plain": [
       "   User_id  Merchant_id  Coupon_id Discount_rate  Distance Date_received  \\\n",
       "0  1439408         2632        NaN          null       0.0           NaT   \n",
       "1  1439408         4663    11002.0        150:20       1.0    2016-05-28   \n",
       "2  1439408         2632     8591.0          20:1       0.0    2016-02-17   \n",
       "3  1439408         2632     1078.0          20:1       0.0    2016-03-19   \n",
       "4  1439408         2632     8591.0          20:1       0.0    2016-06-13   \n",
       "\n",
       "        Date  \n",
       "0 2016-02-17  \n",
       "1        NaT  \n",
       "2        NaT  \n",
       "3        NaT  \n",
       "4        NaT  "
      ]
     },
     "execution_count": 6,
     "metadata": {},
     "output_type": "execute_result"
    }
   ],
   "source": [
    "offline['Discount_rate'] = offline['Discount_rate'].fillna('null')\n",
    "offline.head()"
   ]
  },
  {
   "cell_type": "code",
   "execution_count": 7,
   "id": "990b42be-89cb-4667-aa96-d65ab79b252f",
   "metadata": {},
   "outputs": [
    {
     "data": {
      "text/html": [
       "<div>\n",
       "<style scoped>\n",
       "    .dataframe tbody tr th:only-of-type {\n",
       "        vertical-align: middle;\n",
       "    }\n",
       "\n",
       "    .dataframe tbody tr th {\n",
       "        vertical-align: top;\n",
       "    }\n",
       "\n",
       "    .dataframe thead th {\n",
       "        text-align: right;\n",
       "    }\n",
       "</style>\n",
       "<table border=\"1\" class=\"dataframe\">\n",
       "  <thead>\n",
       "    <tr style=\"text-align: right;\">\n",
       "      <th></th>\n",
       "      <th>User_id</th>\n",
       "      <th>Merchant_id</th>\n",
       "      <th>Coupon_id</th>\n",
       "      <th>Discount_rate</th>\n",
       "      <th>Distance</th>\n",
       "      <th>Date_received</th>\n",
       "      <th>Date</th>\n",
       "    </tr>\n",
       "  </thead>\n",
       "  <tbody>\n",
       "    <tr>\n",
       "      <th>0</th>\n",
       "      <td>1439408</td>\n",
       "      <td>2632</td>\n",
       "      <td>NaN</td>\n",
       "      <td>NaN</td>\n",
       "      <td>0.0</td>\n",
       "      <td>NaT</td>\n",
       "      <td>2016-02-17</td>\n",
       "    </tr>\n",
       "    <tr>\n",
       "      <th>1</th>\n",
       "      <td>1439408</td>\n",
       "      <td>4663</td>\n",
       "      <td>11002.0</td>\n",
       "      <td>0.87</td>\n",
       "      <td>1.0</td>\n",
       "      <td>2016-05-28</td>\n",
       "      <td>NaT</td>\n",
       "    </tr>\n",
       "    <tr>\n",
       "      <th>2</th>\n",
       "      <td>1439408</td>\n",
       "      <td>2632</td>\n",
       "      <td>8591.0</td>\n",
       "      <td>0.95</td>\n",
       "      <td>0.0</td>\n",
       "      <td>2016-02-17</td>\n",
       "      <td>NaT</td>\n",
       "    </tr>\n",
       "    <tr>\n",
       "      <th>3</th>\n",
       "      <td>1439408</td>\n",
       "      <td>2632</td>\n",
       "      <td>1078.0</td>\n",
       "      <td>0.95</td>\n",
       "      <td>0.0</td>\n",
       "      <td>2016-03-19</td>\n",
       "      <td>NaT</td>\n",
       "    </tr>\n",
       "    <tr>\n",
       "      <th>4</th>\n",
       "      <td>1439408</td>\n",
       "      <td>2632</td>\n",
       "      <td>8591.0</td>\n",
       "      <td>0.95</td>\n",
       "      <td>0.0</td>\n",
       "      <td>2016-06-13</td>\n",
       "      <td>NaT</td>\n",
       "    </tr>\n",
       "  </tbody>\n",
       "</table>\n",
       "</div>"
      ],
      "text/plain": [
       "   User_id  Merchant_id  Coupon_id  Discount_rate  Distance Date_received  \\\n",
       "0  1439408         2632        NaN            NaN       0.0           NaT   \n",
       "1  1439408         4663    11002.0           0.87       1.0    2016-05-28   \n",
       "2  1439408         2632     8591.0           0.95       0.0    2016-02-17   \n",
       "3  1439408         2632     1078.0           0.95       0.0    2016-03-19   \n",
       "4  1439408         2632     8591.0           0.95       0.0    2016-06-13   \n",
       "\n",
       "        Date  \n",
       "0 2016-02-17  \n",
       "1        NaT  \n",
       "2        NaT  \n",
       "3        NaT  \n",
       "4        NaT  "
      ]
     },
     "execution_count": 7,
     "metadata": {},
     "output_type": "execute_result"
    }
   ],
   "source": [
    "# for example 150:20 the discount rate like (150-20)/150 = 0.87 \n",
    "def discount_rate_opt(s):\n",
    "    if ':' in s:\n",
    "        split = s.split(':')\n",
    "        discount_rate = (int(split[0]) - int(split[1]))/int(split[0]) \n",
    "        return round(discount_rate,2)\n",
    "    elif s == 'null':\n",
    "        return np.NAN\n",
    "    else:\n",
    "        return float(s) \n",
    "offline['Discount_rate']  = offline['Discount_rate'].map(discount_rate_opt)\n",
    "offline.head()\n"
   ]
  },
  {
   "cell_type": "markdown",
   "id": "7c7e6906-cbdb-4dea-b7a8-4e8dd03cc69d",
   "metadata": {},
   "source": [
    "### 2.2 Categorization of Transactions based on Date and Coupon Status\n",
    "    - If Date is null and Coupon_id is not null, it indicates a coupon not consumed (cpon_no_consume).\n",
    "    - If Date is null and Coupon_id is null, it indicates no coupon and no consumption (no_cpon_no_consume).\n",
    "    - If Date is not null and Coupon_id is null, it indicates Consumed without coupon (no_cpon_consume).\n",
    "    - If Date is not null and Coupon_id is not null, it indicates Consumed with coupon (cpon_consume)"
   ]
  },
  {
   "cell_type": "code",
   "execution_count": 8,
   "id": "44d7c61e-b700-4c65-a511-2ccb4577928f",
   "metadata": {},
   "outputs": [
    {
     "data": {
      "text/plain": [
       "True"
      ]
     },
     "execution_count": 8,
     "metadata": {},
     "output_type": "execute_result"
    }
   ],
   "source": [
    "nan1 = offline['Coupon_id'].isnull()  \n",
    "nan2 = offline['Date_received'].isnull()\n",
    "np.all(nan1 == nan2)"
   ]
  },
  {
   "cell_type": "code",
   "execution_count": 9,
   "id": "2a65840e-64c5-41fb-9d49-e637d5e26569",
   "metadata": {},
   "outputs": [
    {
     "data": {
      "text/plain": [
       "True"
      ]
     },
     "execution_count": 9,
     "metadata": {},
     "output_type": "execute_result"
    }
   ],
   "source": [
    "nan3 = offline['Discount_rate'].isnull()\n",
    "np.all(nan1 == nan3)"
   ]
  },
  {
   "cell_type": "code",
   "execution_count": 10,
   "id": "06a71549-003a-4c0b-8d6f-ed4911f56a9f",
   "metadata": {},
   "outputs": [],
   "source": [
    "cpon_no_consume = offline[(offline['Date'].isnull() & offline['Coupon_id'].notnull())]\n",
    "no_cpon_no_consume = offline[(offline['Date'].isnull() & offline['Coupon_id'].isnull())]\n",
    "no_cpon_consume = offline[(offline['Date'].notnull() & offline['Coupon_id'].isnull())]\n",
    "cpon_consume  = offline[(offline['Date'].notnull() & offline['Coupon_id'].notnull())]"
   ]
  },
  {
   "cell_type": "code",
   "execution_count": 11,
   "id": "d19a2f8c-3633-4e40-bffe-d68e18648d93",
   "metadata": {},
   "outputs": [
    {
     "name": "stdout",
     "output_type": "stream",
     "text": [
      "A coupon never consumed:977900\n",
      "No coupon and no consumption:0\n",
      "Consumed without coupon:701602\n",
      "Consumed with coupon:75382\n"
     ]
    }
   ],
   "source": [
    "print('A coupon never consumed:{}'.format(len(cpon_no_consume)))\n",
    "print('No coupon and no consumption:{}'.format(len(no_cpon_no_consume))) # no need to consider\n",
    "print('Consumed without coupon:{}'.format(len(no_cpon_consume)))\n",
    "print('Consumed with coupon:{}'.format(len(cpon_consume)))"
   ]
  },
  {
   "cell_type": "markdown",
   "id": "94cf2dc3-ed03-4052-939b-ab933c37646b",
   "metadata": {},
   "source": [
    "### The number of users who utilized coupons for consumption is 70k, which is relatively small portion compared to other users"
   ]
  },
  {
   "cell_type": "markdown",
   "id": "709919d2-9d0e-41da-8a01-45011e990ad2",
   "metadata": {},
   "source": [
    "## 3.EDA\n"
   ]
  },
  {
   "cell_type": "markdown",
   "id": "1b1f290e-6b4d-4b3d-92e5-3a737ab161cd",
   "metadata": {},
   "source": [
    "#### 3.1 using pie chart to illustrate the porportion of each coupon status"
   ]
  },
  {
   "cell_type": "code",
   "execution_count": 12,
   "id": "5b814022-3741-45eb-ba85-3c96c4613776",
   "metadata": {},
   "outputs": [
    {
     "data": {
      "text/plain": [
       "cpon_no_consume    977900\n",
       "no_cpon_consume    701602\n",
       "cpon_consume        75382\n",
       "dtype: int64"
      ]
     },
     "execution_count": 12,
     "metadata": {},
     "output_type": "execute_result"
    }
   ],
   "source": [
    "consume_status_dict = {'cpon_no_consume':len(cpon_no_consume),'no_cpon_consume':len(no_cpon_consume),'cpon_consume':len(cpon_consume)}\n",
    "consume_status = pd.Series(consume_status_dict)\n",
    "consume_status"
   ]
  },
  {
   "cell_type": "code",
   "execution_count": 13,
   "id": "c0cf465b-d58c-474f-a8de-a4a446c506c1",
   "metadata": {},
   "outputs": [
    {
     "data": {
      "text/plain": [
       "<matplotlib.legend.Legend at 0x2b301ba3e80>"
      ]
     },
     "execution_count": 13,
     "metadata": {},
     "output_type": "execute_result"
    },
    {
     "data": {
      "image/png": "[encoded data removed]",
      "text/plain": [
       "<Figure size 800x1000 with 1 Axes>"
      ]
     },
     "metadata": {},
     "output_type": "display_data"
    }
   ],
   "source": [
    "fig,ax=plt.subplots(1,1,figsize=(8,10))\n",
    "consume_status.plot.pie(ax = ax,\n",
    "                       autopct='%1.1f%%',\n",
    "                       shadow=True,\n",
    "                        explode=[0.02,0.05,0.2],\n",
    "                        textprops={'fontsize':15,'color':'blue'},\n",
    "                        wedgeprops={'linewidth':1,'edgecolor':'black'},\n",
    "                        labels=['A coupon never consumed \\n ({})'.format(len(cpon_no_consume)),\n",
    "                                'Consumed without coupon \\n ({})'.format(len(no_cpon_consume)),\n",
    "                               'Consumed with coupon \\n ({})'.format(len(cpon_consume))\n",
    "                               ]\n",
    "                       )\n",
    "ax.set_ylabel('')  #去除ylable\n",
    "ax.set_title('Coupon Consumption porportion')\n",
    "plt.legend(labels=['A coupon never consumed','Consumed without coupon','Consumed with coupon'])"
   ]
  },
  {
   "cell_type": "markdown",
   "id": "45f2c568-bc57-475e-ae1c-ba64c6d60b7b",
   "metadata": {},
   "source": [
    "#### 3.2Analyze the distance and discount rates among the group of users who have consumed coupons"
   ]
  },
  {
   "cell_type": "code",
   "execution_count": 14,
   "id": "87ddbe3a-a791-450f-b114-408afb0373fe",
   "metadata": {},
   "outputs": [
    {
     "data": {
      "text/plain": [
       "Merchant_id\n",
       "3       0.0\n",
       "4       0.0\n",
       "13      0.0\n",
       "14      0.0\n",
       "18      0.0\n",
       "       ... \n",
       "8806    0.0\n",
       "8824    0.0\n",
       "8828    0.0\n",
       "8849    0.0\n",
       "8856    0.0\n",
       "Name: Distance, Length: 1431, dtype: float64"
      ]
     },
     "execution_count": 14,
     "metadata": {},
     "output_type": "execute_result"
    }
   ],
   "source": [
    "Merchant_distance = cpon_consume.groupby('Merchant_id')['Distance'].mean()\n",
    "Merchant_distance[Merchant_distance==0]\n",
    "#There are 4,076 merchants, and among them, 1,431 merchants have coupon-consumed users with an average range within 500 meters."
   ]
  },
  {
   "cell_type": "code",
   "execution_count": 15,
   "id": "eb0433b6-62ca-4fb2-b60a-97a6488d8e1c",
   "metadata": {},
   "outputs": [
    {
     "data": {
      "text/plain": [
       "<Axes: >"
      ]
     },
     "execution_count": 15,
     "metadata": {},
     "output_type": "execute_result"
    },
    {
     "data": {
      "image/png": "[encoded data removed]",
      "text/plain": [
       "<Figure size 640x480 with 1 Axes>"
      ]
     },
     "metadata": {},
     "output_type": "display_data"
    }
   ],
   "source": [
    "#The average discount intensity of customers visiting each merchant for in-store consumption.\n",
    "Merchant_discount_rate = cpon_consume.groupby('Merchant_id')['Discount_rate'].mean()\n",
    "Merchant_discount_rate.sort_values()\n",
    "Merchant_discount_rate.hist()\n"
   ]
  },
  {
   "cell_type": "code",
   "execution_count": 16,
   "id": "4e4b3abe-e393-4aaf-a9c8-50dec28d52ca",
   "metadata": {},
   "outputs": [
    {
     "data": {
      "text/plain": [
       "0.8847410562670716"
      ]
     },
     "execution_count": 16,
     "metadata": {},
     "output_type": "execute_result"
    }
   ],
   "source": [
    "Merchant_discount_rate.mean() \n"
   ]
  },
  {
   "cell_type": "markdown",
   "id": "7d1cc0a2-e9f6-47e1-bee0-4e9603afa95b",
   "metadata": {},
   "source": [
    "#### 3.3 Top merchant with the highest number of coupon consumers."
   ]
  },
  {
   "cell_type": "code",
   "execution_count": 17,
   "id": "f1a09d3d-0c9c-435a-8380-b22c7e19bbae",
   "metadata": {},
   "outputs": [
    {
     "name": "stdout",
     "output_type": "stream",
     "text": [
      "16\n",
      "Merchant_id\n",
      "5341    2800\n",
      "760     2627\n",
      "3381    2248\n",
      "6485    2029\n",
      "2099    1401\n",
      "2934    1310\n",
      "450     1094\n",
      "3532     968\n",
      "7555     925\n",
      "1520     870\n",
      "6901     855\n",
      "3621     851\n",
      "4142     832\n",
      "1379     587\n",
      "1469     584\n",
      "1433     559\n",
      "Name: customer_count, dtype: int64\n"
     ]
    }
   ],
   "source": [
    "#count number of distinct consumer by each merchant store \n",
    "popular_merchant = cpon_consume.groupby('Merchant_id')['User_id'].apply(lambda x:len(x.unique())).sort_values(ascending=False)\n",
    "#extract merchant who has more than 500 consumers\n",
    "popular_merchant500 = popular_merchant[popular_merchant>500]\n",
    "popular_merchant500.name = 'customer_count' #rename\n",
    "print(len(popular_merchant500))\n",
    "print(popular_merchant500)\n"
   ]
  },
  {
   "cell_type": "markdown",
   "id": "c43b64e2-8bd3-4fc8-9874-a499ec598b80",
   "metadata": {},
   "source": [
    "- There are a total of 16 stores with coupon-consumed customers exceeding 500.\n",
    "- The store with the highest number of customers using coupons for consumption is 5,341, and the lowest number among them is 2,800.\n",
    "- The last-ranked store has 559 customers using coupons for consumption.\n",
    "- These businesses exhibit effective coupon utilization, demonstrating consumer preference for coupon-based transactions. There is potential for learning from their promotional strategies."
   ]
  },
  {
   "cell_type": "markdown",
   "id": "b00f5722-f1b8-4a86-8fb5-3ad4560f2ca4",
   "metadata": {},
   "source": [
    "#### 3.4 For merchants with coupon-consumed customer counts exceeding 500,analyze the correlation between average customer distance to the store and average discount intensity."
   ]
  },
  {
   "cell_type": "code",
   "execution_count": 18,
   "id": "6dae4b82-c1b3-444a-b96a-2e20f4868c2d",
   "metadata": {},
   "outputs": [
    {
     "data": {
      "text/html": [
       "<div>\n",
       "<style scoped>\n",
       "    .dataframe tbody tr th:only-of-type {\n",
       "        vertical-align: middle;\n",
       "    }\n",
       "\n",
       "    .dataframe tbody tr th {\n",
       "        vertical-align: top;\n",
       "    }\n",
       "\n",
       "    .dataframe thead th {\n",
       "        text-align: right;\n",
       "    }\n",
       "</style>\n",
       "<table border=\"1\" class=\"dataframe\">\n",
       "  <thead>\n",
       "    <tr style=\"text-align: right;\">\n",
       "      <th></th>\n",
       "      <th>customer_count</th>\n",
       "      <th>Distance</th>\n",
       "      <th>Discount_rate</th>\n",
       "    </tr>\n",
       "    <tr>\n",
       "      <th>Merchant_id</th>\n",
       "      <th></th>\n",
       "      <th></th>\n",
       "      <th></th>\n",
       "    </tr>\n",
       "  </thead>\n",
       "  <tbody>\n",
       "    <tr>\n",
       "      <th>5341</th>\n",
       "      <td>2800</td>\n",
       "      <td>0.168598</td>\n",
       "      <td>0.826036</td>\n",
       "    </tr>\n",
       "    <tr>\n",
       "      <th>760</th>\n",
       "      <td>2627</td>\n",
       "      <td>0.349866</td>\n",
       "      <td>0.799873</td>\n",
       "    </tr>\n",
       "    <tr>\n",
       "      <th>3381</th>\n",
       "      <td>2248</td>\n",
       "      <td>1.652429</td>\n",
       "      <td>0.744150</td>\n",
       "    </tr>\n",
       "    <tr>\n",
       "      <th>6485</th>\n",
       "      <td>2029</td>\n",
       "      <td>0.368567</td>\n",
       "      <td>0.770439</td>\n",
       "    </tr>\n",
       "    <tr>\n",
       "      <th>2099</th>\n",
       "      <td>1401</td>\n",
       "      <td>0.968072</td>\n",
       "      <td>0.900000</td>\n",
       "    </tr>\n",
       "    <tr>\n",
       "      <th>2934</th>\n",
       "      <td>1310</td>\n",
       "      <td>1.114833</td>\n",
       "      <td>0.830000</td>\n",
       "    </tr>\n",
       "    <tr>\n",
       "      <th>450</th>\n",
       "      <td>1094</td>\n",
       "      <td>0.892164</td>\n",
       "      <td>0.819274</td>\n",
       "    </tr>\n",
       "    <tr>\n",
       "      <th>3532</th>\n",
       "      <td>968</td>\n",
       "      <td>0.272498</td>\n",
       "      <td>0.852289</td>\n",
       "    </tr>\n",
       "    <tr>\n",
       "      <th>7555</th>\n",
       "      <td>925</td>\n",
       "      <td>1.329977</td>\n",
       "      <td>0.828381</td>\n",
       "    </tr>\n",
       "    <tr>\n",
       "      <th>1520</th>\n",
       "      <td>870</td>\n",
       "      <td>NaN</td>\n",
       "      <td>0.925632</td>\n",
       "    </tr>\n",
       "    <tr>\n",
       "      <th>6901</th>\n",
       "      <td>855</td>\n",
       "      <td>0.557895</td>\n",
       "      <td>0.834165</td>\n",
       "    </tr>\n",
       "    <tr>\n",
       "      <th>3621</th>\n",
       "      <td>851</td>\n",
       "      <td>0.472799</td>\n",
       "      <td>0.747565</td>\n",
       "    </tr>\n",
       "    <tr>\n",
       "      <th>4142</th>\n",
       "      <td>832</td>\n",
       "      <td>0.555882</td>\n",
       "      <td>0.900000</td>\n",
       "    </tr>\n",
       "    <tr>\n",
       "      <th>1379</th>\n",
       "      <td>587</td>\n",
       "      <td>0.706250</td>\n",
       "      <td>0.830096</td>\n",
       "    </tr>\n",
       "    <tr>\n",
       "      <th>1469</th>\n",
       "      <td>584</td>\n",
       "      <td>2.092800</td>\n",
       "      <td>0.721870</td>\n",
       "    </tr>\n",
       "    <tr>\n",
       "      <th>1433</th>\n",
       "      <td>559</td>\n",
       "      <td>1.054962</td>\n",
       "      <td>0.825959</td>\n",
       "    </tr>\n",
       "  </tbody>\n",
       "</table>\n",
       "</div>"
      ],
      "text/plain": [
       "             customer_count  Distance  Discount_rate\n",
       "Merchant_id                                         \n",
       "5341                   2800  0.168598       0.826036\n",
       "760                    2627  0.349866       0.799873\n",
       "3381                   2248  1.652429       0.744150\n",
       "6485                   2029  0.368567       0.770439\n",
       "2099                   1401  0.968072       0.900000\n",
       "2934                   1310  1.114833       0.830000\n",
       "450                    1094  0.892164       0.819274\n",
       "3532                    968  0.272498       0.852289\n",
       "7555                    925  1.329977       0.828381\n",
       "1520                    870       NaN       0.925632\n",
       "6901                    855  0.557895       0.834165\n",
       "3621                    851  0.472799       0.747565\n",
       "4142                    832  0.555882       0.900000\n",
       "1379                    587  0.706250       0.830096\n",
       "1469                    584  2.092800       0.721870\n",
       "1433                    559  1.054962       0.825959"
      ]
     },
     "execution_count": 18,
     "metadata": {},
     "output_type": "execute_result"
    }
   ],
   "source": [
    "#join table popular_merchant500 with Merchant_distance togetger\n",
    "merchant_pop_dis = pd.merge(left=popular_merchant500,right=Merchant_distance,on='Merchant_id',how='inner')\n",
    "merchant_pop_dis_rate = pd.merge(left=merchant_pop_dis,right=Merchant_discount_rate,on='Merchant_id',how='inner')\n",
    "merchant_pop_dis_rate"
   ]
  },
  {
   "cell_type": "code",
   "execution_count": 19,
   "id": "94c5fba1-610e-4df7-801d-4d4614680e69",
   "metadata": {},
   "outputs": [
    {
     "data": {
      "text/html": [
       "<div>\n",
       "<style scoped>\n",
       "    .dataframe tbody tr th:only-of-type {\n",
       "        vertical-align: middle;\n",
       "    }\n",
       "\n",
       "    .dataframe tbody tr th {\n",
       "        vertical-align: top;\n",
       "    }\n",
       "\n",
       "    .dataframe thead th {\n",
       "        text-align: right;\n",
       "    }\n",
       "</style>\n",
       "<table border=\"1\" class=\"dataframe\">\n",
       "  <thead>\n",
       "    <tr style=\"text-align: right;\">\n",
       "      <th></th>\n",
       "      <th>customer_count</th>\n",
       "      <th>Distance</th>\n",
       "      <th>Discount_rate</th>\n",
       "    </tr>\n",
       "  </thead>\n",
       "  <tbody>\n",
       "    <tr>\n",
       "      <th>customer_count</th>\n",
       "      <td>1.000000</td>\n",
       "      <td>-0.306180</td>\n",
       "      <td>-0.204102</td>\n",
       "    </tr>\n",
       "    <tr>\n",
       "      <th>Distance</th>\n",
       "      <td>-0.306180</td>\n",
       "      <td>1.000000</td>\n",
       "      <td>-0.397376</td>\n",
       "    </tr>\n",
       "    <tr>\n",
       "      <th>Discount_rate</th>\n",
       "      <td>-0.204102</td>\n",
       "      <td>-0.397376</td>\n",
       "      <td>1.000000</td>\n",
       "    </tr>\n",
       "  </tbody>\n",
       "</table>\n",
       "</div>"
      ],
      "text/plain": [
       "                customer_count  Distance  Discount_rate\n",
       "customer_count        1.000000 -0.306180      -0.204102\n",
       "Distance             -0.306180  1.000000      -0.397376\n",
       "Discount_rate        -0.204102 -0.397376       1.000000"
      ]
     },
     "execution_count": 19,
     "metadata": {},
     "output_type": "execute_result"
    }
   ],
   "source": [
    "merchant_pop_dis_rate.corr()\n"
   ]
  },
  {
   "cell_type": "code",
   "execution_count": 20,
   "id": "d15be9d4-ca50-408a-b06a-43d32335594e",
   "metadata": {},
   "outputs": [
    {
     "data": {
      "text/plain": [
       "<Axes: >"
      ]
     },
     "execution_count": 20,
     "metadata": {},
     "output_type": "execute_result"
    },
    {
     "data": {
      "image/png": "[encoded data removed]",
      "text/plain": [
       "<Figure size 640x480 with 2 Axes>"
      ]
     },
     "metadata": {},
     "output_type": "display_data"
    }
   ],
   "source": [
    "sns.heatmap(data=merchant_pop_dis_rate.corr(),annot=True,cmap='Accent',vmax=1,vmin=-1)\n"
   ]
  },
  {
   "cell_type": "markdown",
   "id": "1734362a-3591-47f0-8afb-d997f09fdb3a",
   "metadata": {},
   "source": [
    "- The number of in-store customers shows a negative correlation with the distance customers travel to the store, with a correlation coefficient of 0.31, falling between 0.3 and 0.5, indicating a low correlation.\n",
    "\n",
    "- The number of in-store customers exhibits a negative correlation with the discount intensity, with a correlation coefficient of 0.2, falling between 0 and 0.3, indicating an extremely weak correlation.\n",
    "- In conclusion, the popularity of these stores is likely driven by the attractiveness of their products at reasonable prices. The correlation with distance and discount intensity is not significant."
   ]
  },
  {
   "cell_type": "markdown",
   "id": "ab0c7ee5-9345-4c39-8167-8f73348b0ae1",
   "metadata": {},
   "source": [
    "### 4. Analyze the overall issuing and usage of coupons on a daily basis.\n",
    "    - Business Analysis: Dates (Date_received for coupon issuance and date for coupon usage) serve as the x-axis for charts.\n",
    "    - The goal is to calculate the daily count of coupon issuances and redemptions."
   ]
  },
  {
   "cell_type": "code",
   "execution_count": 21,
   "id": "11e4bb82-e340-403b-9aec-90893d42526a",
   "metadata": {},
   "outputs": [
    {
     "data": {
      "text/plain": [
       "776984"
      ]
     },
     "execution_count": 21,
     "metadata": {},
     "output_type": "execute_result"
    }
   ],
   "source": [
    "#total number of coupon consuming\n",
    "offline['Date'].notnull().sum() \n"
   ]
  },
  {
   "cell_type": "code",
   "execution_count": 22,
   "id": "836d6fcf-2238-4c0b-a351-629a4bed6328",
   "metadata": {},
   "outputs": [
    {
     "data": {
      "text/plain": [
       "1053282"
      ]
     },
     "execution_count": 22,
     "metadata": {},
     "output_type": "execute_result"
    }
   ],
   "source": [
    "#total number of coupon issuing\n",
    "offline['Date_received'].notnull().sum()  \n",
    "\n"
   ]
  },
  {
   "cell_type": "code",
   "execution_count": 24,
   "id": "c97b9447-0c85-4507-8301-c9b9a7698359",
   "metadata": {},
   "outputs": [
    {
     "data": {
      "text/plain": [
       "array(['2016-01-01T00:00:00.000000000', '2016-01-02T00:00:00.000000000',\n",
       "       '2016-01-03T00:00:00.000000000', '2016-01-04T00:00:00.000000000',\n",
       "       '2016-01-05T00:00:00.000000000'], dtype='datetime64[ns]')"
      ]
     },
     "execution_count": 24,
     "metadata": {},
     "output_type": "execute_result"
    }
   ],
   "source": [
    "#extract distinct coupon consumed records \n",
    "date_sort = offline[offline['Date'].notnull()]['Date'].sort_values().unique()\n",
    "date_sort[:5]"
   ]
  },
  {
   "cell_type": "code",
   "execution_count": 26,
   "id": "7d19d415-b94f-43e1-b863-4bcc5559e684",
   "metadata": {},
   "outputs": [
    {
     "data": {
      "text/plain": [
       "array(['2016-01-01T00:00:00.000000000', '2016-01-02T00:00:00.000000000',\n",
       "       '2016-01-03T00:00:00.000000000', '2016-01-04T00:00:00.000000000',\n",
       "       '2016-01-05T00:00:00.000000000'], dtype='datetime64[ns]')"
      ]
     },
     "execution_count": 26,
     "metadata": {},
     "output_type": "execute_result"
    }
   ],
   "source": [
    "#extract distinct coupon received records \n",
    "date_received_sort = offline[offline['Date_received'].notnull()]['Date_received'].sort_values().unique()\n",
    "date_received_sort[:5]\n"
   ]
  },
  {
   "cell_type": "code",
   "execution_count": 58,
   "id": "127237ce-a47c-4c27-bb4c-68e0855c2a10",
   "metadata": {},
   "outputs": [
    {
     "data": {
      "text/html": [
       "<div>\n",
       "<style scoped>\n",
       "    .dataframe tbody tr th:only-of-type {\n",
       "        vertical-align: middle;\n",
       "    }\n",
       "\n",
       "    .dataframe tbody tr th {\n",
       "        vertical-align: top;\n",
       "    }\n",
       "\n",
       "    .dataframe thead th {\n",
       "        text-align: right;\n",
       "    }\n",
       "</style>\n",
       "<table border=\"1\" class=\"dataframe\">\n",
       "  <thead>\n",
       "    <tr style=\"text-align: right;\">\n",
       "      <th></th>\n",
       "      <th>count</th>\n",
       "    </tr>\n",
       "    <tr>\n",
       "      <th>Date_received</th>\n",
       "      <th></th>\n",
       "    </tr>\n",
       "  </thead>\n",
       "  <tbody>\n",
       "    <tr>\n",
       "      <th>2016-01-01</th>\n",
       "      <td>74</td>\n",
       "    </tr>\n",
       "    <tr>\n",
       "      <th>2016-01-02</th>\n",
       "      <td>67</td>\n",
       "    </tr>\n",
       "    <tr>\n",
       "      <th>2016-01-03</th>\n",
       "      <td>74</td>\n",
       "    </tr>\n",
       "    <tr>\n",
       "      <th>2016-01-04</th>\n",
       "      <td>98</td>\n",
       "    </tr>\n",
       "    <tr>\n",
       "      <th>2016-01-05</th>\n",
       "      <td>107</td>\n",
       "    </tr>\n",
       "    <tr>\n",
       "      <th>...</th>\n",
       "      <td>...</td>\n",
       "    </tr>\n",
       "    <tr>\n",
       "      <th>2016-06-11</th>\n",
       "      <td>351</td>\n",
       "    </tr>\n",
       "    <tr>\n",
       "      <th>2016-06-12</th>\n",
       "      <td>330</td>\n",
       "    </tr>\n",
       "    <tr>\n",
       "      <th>2016-06-13</th>\n",
       "      <td>439</td>\n",
       "    </tr>\n",
       "    <tr>\n",
       "      <th>2016-06-14</th>\n",
       "      <td>394</td>\n",
       "    </tr>\n",
       "    <tr>\n",
       "      <th>2016-06-15</th>\n",
       "      <td>355</td>\n",
       "    </tr>\n",
       "  </tbody>\n",
       "</table>\n",
       "<p>167 rows × 1 columns</p>\n",
       "</div>"
      ],
      "text/plain": [
       "               count\n",
       "Date_received       \n",
       "2016-01-01        74\n",
       "2016-01-02        67\n",
       "2016-01-03        74\n",
       "2016-01-04        98\n",
       "2016-01-05       107\n",
       "...              ...\n",
       "2016-06-11       351\n",
       "2016-06-12       330\n",
       "2016-06-13       439\n",
       "2016-06-14       394\n",
       "2016-06-15       355\n",
       "\n",
       "[167 rows x 1 columns]"
      ]
     },
     "execution_count": 58,
     "metadata": {},
     "output_type": "execute_result"
    }
   ],
   "source": [
    "#the number of coupon consumed by customers per day\n",
    "consume_num_everyday =  cpon_consume[['User_id','Date_received']]\n",
    "consume_num_everyday = consume_num_everyday.groupby('Date_received').count()\n",
    "consume_num_everyday = consume_num_everyday.rename(columns={'User_id':'count'})\n",
    "consume_num_everyday\n"
   ]
  },
  {
   "cell_type": "code",
   "execution_count": 61,
   "id": "25a6251a-556c-48db-9a03-41837725fd4d",
   "metadata": {},
   "outputs": [
    {
     "data": {
      "text/html": [
       "<div>\n",
       "<style scoped>\n",
       "    .dataframe tbody tr th:only-of-type {\n",
       "        vertical-align: middle;\n",
       "    }\n",
       "\n",
       "    .dataframe tbody tr th {\n",
       "        vertical-align: top;\n",
       "    }\n",
       "\n",
       "    .dataframe thead th {\n",
       "        text-align: right;\n",
       "    }\n",
       "</style>\n",
       "<table border=\"1\" class=\"dataframe\">\n",
       "  <thead>\n",
       "    <tr style=\"text-align: right;\">\n",
       "      <th></th>\n",
       "      <th>count</th>\n",
       "    </tr>\n",
       "    <tr>\n",
       "      <th>Date_received</th>\n",
       "      <th></th>\n",
       "    </tr>\n",
       "  </thead>\n",
       "  <tbody>\n",
       "    <tr>\n",
       "      <th>2016-01-01</th>\n",
       "      <td>554</td>\n",
       "    </tr>\n",
       "    <tr>\n",
       "      <th>2016-01-02</th>\n",
       "      <td>542</td>\n",
       "    </tr>\n",
       "    <tr>\n",
       "      <th>2016-01-03</th>\n",
       "      <td>536</td>\n",
       "    </tr>\n",
       "    <tr>\n",
       "      <th>2016-01-04</th>\n",
       "      <td>577</td>\n",
       "    </tr>\n",
       "    <tr>\n",
       "      <th>2016-01-05</th>\n",
       "      <td>691</td>\n",
       "    </tr>\n",
       "    <tr>\n",
       "      <th>...</th>\n",
       "      <td>...</td>\n",
       "    </tr>\n",
       "    <tr>\n",
       "      <th>2016-06-11</th>\n",
       "      <td>5211</td>\n",
       "    </tr>\n",
       "    <tr>\n",
       "      <th>2016-06-12</th>\n",
       "      <td>4005</td>\n",
       "    </tr>\n",
       "    <tr>\n",
       "      <th>2016-06-13</th>\n",
       "      <td>7861</td>\n",
       "    </tr>\n",
       "    <tr>\n",
       "      <th>2016-06-14</th>\n",
       "      <td>4755</td>\n",
       "    </tr>\n",
       "    <tr>\n",
       "      <th>2016-06-15</th>\n",
       "      <td>3475</td>\n",
       "    </tr>\n",
       "  </tbody>\n",
       "</table>\n",
       "<p>167 rows × 1 columns</p>\n",
       "</div>"
      ],
      "text/plain": [
       "               count\n",
       "Date_received       \n",
       "2016-01-01       554\n",
       "2016-01-02       542\n",
       "2016-01-03       536\n",
       "2016-01-04       577\n",
       "2016-01-05       691\n",
       "...              ...\n",
       "2016-06-11      5211\n",
       "2016-06-12      4005\n",
       "2016-06-13      7861\n",
       "2016-06-14      4755\n",
       "2016-06-15      3475\n",
       "\n",
       "[167 rows x 1 columns]"
      ]
     },
     "execution_count": 61,
     "metadata": {},
     "output_type": "execute_result"
    }
   ],
   "source": [
    "#the number of coupon issued per day(extract Date_received ！=null，count by per day)\n",
    "coupon_issued_everyday = offline[offline['Date_received'].notnull()][['Date_received','User_id']]\n",
    "coupon_issued_everyday = coupon_issued_everyday.groupby('Date_received').count()\n",
    "coupon_issued_everyday = coupon_issued_everyday.rename(columns={'User_id':'count'})\n",
    "coupon_issued_everyday"
   ]
  },
  {
   "cell_type": "code",
   "execution_count": 63,
   "id": "0db48221-f123-474d-af23-0e1697d6864c",
   "metadata": {},
   "outputs": [
    {
     "data": {
      "text/plain": [
       "<matplotlib.legend.Legend at 0x2b315983af0>"
      ]
     },
     "execution_count": 63,
     "metadata": {},
     "output_type": "execute_result"
    },
    {
     "data": {
      "image/png": "[encoded data removed]",
      "text/plain": [
       "<Figure size 1800x600 with 1 Axes>"
      ]
     },
     "metadata": {},
     "output_type": "display_data"
    }
   ],
   "source": [
    "\n",
    "plt.figure(figsize=(18,6))\n",
    "\n",
    "#plot coupon daily issuing \n",
    "plt.bar(x=date_received_sort,height=coupon_issued_everyday['count'],label='coupon daily issuing')\n",
    "#plot coupon daily consuming\n",
    "plt.bar(x=date_received_sort,height=consume_num_everyday['count'],label='coupon daily consuming')\n",
    "\n",
    "plt.yscale('log')\n",
    "plt.legend()\n"
   ]
  },
  {
   "cell_type": "markdown",
   "id": "6c014a46-6bad-4d0a-babb-3d082ad2f8ef",
   "metadata": {},
   "source": [
    "- For example, in February 2016, with a coupon issuance level around 1,000 and a distribution volume of around 100,000, the gap is approximately 100-fold, indicating very low utilization."
   ]
  },
  {
   "cell_type": "code",
   "execution_count": 67,
   "id": "1f36f1a4-d043-451b-9624-d2694d4b7186",
   "metadata": {},
   "outputs": [
    {
     "data": {
      "text/plain": [
       "<matplotlib.legend.Legend at 0x2b315c3bc10>"
      ]
     },
     "execution_count": 67,
     "metadata": {},
     "output_type": "execute_result"
    },
    {
     "data": {
      "image/png": "[encoded data removed]",
      "text/plain": [
       "<Figure size 1800x600 with 1 Axes>"
      ]
     },
     "metadata": {},
     "output_type": "display_data"
    }
   ],
   "source": [
    "#Calculate the daily percentage of coupon consumed relative to the issuance volume.\n",
    "plt.figure(figsize=(18,6))\n",
    "plt.plot(date_received_sort,consume_num_everday['count']/coupon_sendout_everyday['count'],\n",
    "       label='percentage of coupon consumed')\n",
    "plt.legend()"
   ]
  },
  {
   "cell_type": "markdown",
   "id": "0e4ffc1d-8194-4a4e-ab81-dabb268ecd01",
   "metadata": {},
   "source": [
    "\n",
    "- From the chart, it is evident that the highest coupon utilization rate occurred at the end of March 2016, reaching 30%.\n",
    "- The lowest utilization rate was around 3% at the end of January 2016.\n",
    "- Overall, there is significant fluctuation in coupon utilization rates."
   ]
  },
  {
   "cell_type": "code",
   "execution_count": null,
   "id": "de0a373f-b29f-4e04-9aa1-3e753ddcf969",
   "metadata": {},
   "outputs": [],
   "source": []
  }
 ],
 "metadata": {
  "kernelspec": {
   "display_name": "Python 3 (ipykernel)",
   "language": "python",
   "name": "python3"
  },
  "language_info": {
   "codemirror_mode": {
    "name": "ipython",
    "version": 3
   },
   "file_extension": ".py",
   "mimetype": "text/x-python",
   "name": "python",
   "nbconvert_exporter": "python",
   "pygments_lexer": "ipython3",
   "version": "3.10.9"
  }
 },
 "nbformat": 4,
 "nbformat_minor": 5
}
